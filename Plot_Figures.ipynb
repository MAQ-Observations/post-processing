{
 "cells": [
  {
   "cell_type": "code",
   "execution_count": 5,
   "id": "42d05566",
   "metadata": {},
   "outputs": [],
   "source": [
    "#Load modules\n",
    "\n",
    "import numpy as np\n",
    "import matplotlib.pyplot as plt\n",
    "import pandas as pd\n",
    "import datetime as dt\n",
    "import requests"
   ]
  },
  {
   "cell_type": "code",
   "execution_count": 6,
   "id": "04a6d8a6",
   "metadata": {},
   "outputs": [],
   "source": [
    "#User defined input, specify your wishes below\n",
    "\n",
    "start_date = dt.datetime(2024,1,1)           #Start date (yyyy,mm,dd)\n",
    "end_date = dt.datetime(2024,1,31)            #End date (yyyy,mm,dd)\n",
    "site = 1                                     #Site 1=Veenkampen, 2=Loobos, 3=Amsterdam\n",
    "variables = ['TA_2_1_1',                     #Array of variables to download, see https://maq-observations.nl/instruments/ for a full list, use the 'Steam names', column 1\n",
    "             'TA_1_1_1',\n",
    "             'RH_1_1_1',\n",
    "             'SW_IN_1_1_1',\n",
    "             'SW_OUT_1_1_1',\n",
    "             'LW_IN_1_1_1',\n",
    "             'LW_OUT_1_1_1',\n",
    "             'VIS_1_1_1',\n",
    "             'WS_1_1_1',\n",
    "             'WD_1_1_1',\n",
    "             'P_1_1_1']                                 \n",
    "API_KEY = '<ApiKey>'                              #Put you API key here as a string, see https://maq-observations.nl/api/\n",
    "save_files = True                                 #True/False switch to save the generated figures"
   ]
  },
  {
   "cell_type": "code",
   "execution_count": 10,
   "id": "57cc4a9b",
   "metadata": {},
   "outputs": [
    {
     "name": "stdout",
     "output_type": "stream",
     "text": [
      "This notebook is still under construction\n"
     ]
    }
   ],
   "source": [
    "#Run the request by running this cell (run the cell with the generate_graphs function first):\n",
    "\n",
    "generate_graphs(start_date,end_date,site,variables,API_KEY,save_files)"
   ]
  },
  {
   "cell_type": "code",
   "execution_count": 11,
   "id": "0bd35d8f",
   "metadata": {},
   "outputs": [],
   "source": [
    "# ADMIN DEFINED INPUT AND CODE\n",
    "# We recommend to not change the code below. However, you can tailor the code below to change the output structure if you want.\n",
    "\n",
    "\n",
    "def generate_graphs(start_date,end_date,site,variables,API_KEY,save_files):\n",
    "    print('This notebook is still under construction')"
   ]
  },
  {
   "cell_type": "code",
   "execution_count": null,
   "id": "27bc2366",
   "metadata": {},
   "outputs": [],
   "source": []
  }
 ],
 "metadata": {
  "kernelspec": {
   "display_name": "Python 3 (ipykernel)",
   "language": "python",
   "name": "python3"
  },
  "language_info": {
   "codemirror_mode": {
    "name": "ipython",
    "version": 3
   },
   "file_extension": ".py",
   "mimetype": "text/x-python",
   "name": "python",
   "nbconvert_exporter": "python",
   "pygments_lexer": "ipython3",
   "version": "3.9.13"
  }
 },
 "nbformat": 4,
 "nbformat_minor": 5
}
